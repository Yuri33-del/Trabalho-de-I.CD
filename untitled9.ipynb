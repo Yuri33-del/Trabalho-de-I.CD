{
  "nbformat": 4,
  "nbformat_minor": 0,
  "metadata": {
    "colab": {
      "provenance": [],
      "authorship_tag": "ABX9TyPx2CC9jByYEXM15Ish3nBY",
      "include_colab_link": true
    },
    "kernelspec": {
      "name": "python3",
      "display_name": "Python 3"
    },
    "language_info": {
      "name": "python"
    }
  },
  "cells": [
    {
      "cell_type": "markdown",
      "metadata": {
        "id": "view-in-github",
        "colab_type": "text"
      },
      "source": [
        "<a href=\"https://colab.research.google.com/github/Yuri33-del/Trabalho-de-I.CD/blob/main/untitled9.ipynb\" target=\"_parent\"><img src=\"https://colab.research.google.com/assets/colab-badge.svg\" alt=\"Open In Colab\"/></a>"
      ]
    },
    {
      "cell_type": "code",
      "execution_count": null,
      "metadata": {
        "id": "rksE9jpZUrNI"
      },
      "outputs": [],
      "source": [
        "# Tabela de multiplicação de 5 a 15\n",
        "for i in range(5, 16):\n",
        "    print(f\"--- Tabela de Multiplicação de {i} ---\")\n",
        "    for j in range(5, 16):\n",
        "        print(f\"{i} x {j} = {i * j}\")\n",
        "    print()  # Linha em branco para separar as tabelas"
      ]
    },
    {
      "cell_type": "code",
      "source": [
        "# Determinar o número de dígitos de um CPF\n",
        "cpf = input(\"Digite o número do CPF (apenas números): \").strip()\n",
        "cpf_digitos = len(cpf)\n",
        "\n",
        "if cpf.isdigit():\n",
        "    print(f\"O número de dígitos do CPF informado é: {cpf_digitos}\")\n",
        "else:\n",
        "    print(\"Por favor, insira apenas números!\")"
      ],
      "metadata": {
        "id": "iUz1Zy1qUwqo"
      },
      "execution_count": null,
      "outputs": []
    },
    {
      "cell_type": "code",
      "source": [
        "# Determinar o número de dígitos de um CPF\n",
        "cpf = input(\"Digite o número do CPF (apenas números): \").strip()\n",
        "cpf_digitos = len(cpf)\n",
        "\n",
        "if cpf.isdigit():\n",
        "    print(f\"O número de dígitos do CPF informado é: {cpf_digitos}\")\n",
        "else:\n",
        "    print(\"Por favor, insira apenas números!\")"
      ],
      "metadata": {
        "id": "Zk26P1-PUzMD"
      },
      "execution_count": null,
      "outputs": []
    }
  ]
}